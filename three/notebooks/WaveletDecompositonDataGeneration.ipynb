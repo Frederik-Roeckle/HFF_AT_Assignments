{
  "nbformat": 4,
  "nbformat_minor": 0,
  "metadata": {
    "colab": {
      "provenance": [],
      "authorship_tag": "ABX9TyMAHg22++M4LOFGrFQpXaG0",
      "include_colab_link": true
    },
    "kernelspec": {
      "name": "python3",
      "display_name": "Python 3"
    },
    "language_info": {
      "name": "python"
    }
  },
  "cells": [
    {
      "cell_type": "markdown",
      "metadata": {
        "id": "view-in-github",
        "colab_type": "text"
      },
      "source": [
        "<a href=\"https://colab.research.google.com/github/Frederik-Roeckle/HFF_AT_Assignments/blob/master/WaveletDecompositonDataGeneration.ipynb\" target=\"_parent\"><img src=\"https://colab.research.google.com/assets/colab-badge.svg\" alt=\"Open In Colab\"/></a>"
      ]
    },
    {
      "cell_type": "code",
      "source": [
        "from google.colab import drive\n",
        "drive.mount(\"/content/drive/\", force_remount=True)"
      ],
      "metadata": {
        "colab": {
          "base_uri": "https://localhost:8080/"
        },
        "id": "uaO2gHkgImel",
        "outputId": "aee64031-ae88-473d-b457-15ff2f1d487f"
      },
      "execution_count": 82,
      "outputs": [
        {
          "output_type": "stream",
          "name": "stdout",
          "text": [
            "Mounted at /content/drive/\n"
          ]
        }
      ]
    },
    {
      "cell_type": "code",
      "source": [
        "!pip install pywavelets"
      ],
      "metadata": {
        "colab": {
          "base_uri": "https://localhost:8080/"
        },
        "id": "IZdPweA4Jqnz",
        "outputId": "094392a4-a467-4361-bc58-4c164ae0bc4b"
      },
      "execution_count": 57,
      "outputs": [
        {
          "output_type": "stream",
          "name": "stdout",
          "text": [
            "Requirement already satisfied: pywavelets in /usr/local/lib/python3.10/dist-packages (1.7.0)\n",
            "Requirement already satisfied: numpy<3,>=1.23 in /usr/local/lib/python3.10/dist-packages (from pywavelets) (1.26.4)\n"
          ]
        }
      ]
    },
    {
      "cell_type": "code",
      "execution_count": 83,
      "metadata": {
        "id": "MRpgwYXMIJdu"
      },
      "outputs": [],
      "source": [
        "import pandas as pd\n",
        "import pywt\n",
        "import shutil\n",
        "import matplotlib.pyplot as plt"
      ]
    },
    {
      "cell_type": "code",
      "source": [
        "df = pd.read_csv(\"/content/drive/MyDrive/Colab Notebooks/HFF_AT_Assignment_3/ustech100/ustech100_minute.txt\", sep=\", \", header=None)"
      ],
      "metadata": {
        "colab": {
          "base_uri": "https://localhost:8080/"
        },
        "id": "iNttOlGlIl48",
        "outputId": "a6341081-5120-4f93-b8d3-a4de854c8a10"
      },
      "execution_count": 84,
      "outputs": [
        {
          "output_type": "stream",
          "name": "stderr",
          "text": [
            "<ipython-input-84-b889b309449a>:1: ParserWarning: Falling back to the 'python' engine because the 'c' engine does not support regex separators (separators > 1 char and different from '\\s+' are interpreted as regex); you can avoid this warning by specifying engine='python'.\n",
            "  df = pd.read_csv(\"/content/drive/MyDrive/Colab Notebooks/HFF_AT_Assignment_3/ustech100/ustech100_minute.txt\", sep=\", \", header=None)\n"
          ]
        }
      ]
    },
    {
      "cell_type": "code",
      "source": [
        "df.rename(columns={0: 'Datetime', 1: 'Midprice'}, inplace=True)\n",
        "df[\"Midprice\"] = df[\"Midprice\"].str.replace(\",\", \".\")\n",
        "df[\"Midprice\"] = df[\"Midprice\"].astype(\"float\")\n",
        "df[\"Datetime\"] = pd.to_datetime(df['Datetime'], format='%d.%m.%Y %H:%M:%S%f')\n",
        "df.set_index(\"Datetime\", inplace=True)\n",
        "df.head()"
      ],
      "metadata": {
        "colab": {
          "base_uri": "https://localhost:8080/",
          "height": 237
        },
        "id": "Imi_vaGoJ8DE",
        "outputId": "9268f470-c883-4a0a-dc35-de3283ad934b"
      },
      "execution_count": 85,
      "outputs": [
        {
          "output_type": "execute_result",
          "data": {
            "text/plain": [
              "                     Midprice\n",
              "Datetime                     \n",
              "2023-06-02 07:01:00   14481.0\n",
              "2023-06-02 07:02:00   14483.4\n",
              "2023-06-02 07:03:00   14480.0\n",
              "2023-06-02 07:04:00   14481.3\n",
              "2023-06-02 07:05:00   14481.4"
            ],
            "text/html": [
              "\n",
              "  <div id=\"df-aab5accf-21f1-40f6-8c8f-cbd02def00ef\" class=\"colab-df-container\">\n",
              "    <div>\n",
              "<style scoped>\n",
              "    .dataframe tbody tr th:only-of-type {\n",
              "        vertical-align: middle;\n",
              "    }\n",
              "\n",
              "    .dataframe tbody tr th {\n",
              "        vertical-align: top;\n",
              "    }\n",
              "\n",
              "    .dataframe thead th {\n",
              "        text-align: right;\n",
              "    }\n",
              "</style>\n",
              "<table border=\"1\" class=\"dataframe\">\n",
              "  <thead>\n",
              "    <tr style=\"text-align: right;\">\n",
              "      <th></th>\n",
              "      <th>Midprice</th>\n",
              "    </tr>\n",
              "    <tr>\n",
              "      <th>Datetime</th>\n",
              "      <th></th>\n",
              "    </tr>\n",
              "  </thead>\n",
              "  <tbody>\n",
              "    <tr>\n",
              "      <th>2023-06-02 07:01:00</th>\n",
              "      <td>14481.0</td>\n",
              "    </tr>\n",
              "    <tr>\n",
              "      <th>2023-06-02 07:02:00</th>\n",
              "      <td>14483.4</td>\n",
              "    </tr>\n",
              "    <tr>\n",
              "      <th>2023-06-02 07:03:00</th>\n",
              "      <td>14480.0</td>\n",
              "    </tr>\n",
              "    <tr>\n",
              "      <th>2023-06-02 07:04:00</th>\n",
              "      <td>14481.3</td>\n",
              "    </tr>\n",
              "    <tr>\n",
              "      <th>2023-06-02 07:05:00</th>\n",
              "      <td>14481.4</td>\n",
              "    </tr>\n",
              "  </tbody>\n",
              "</table>\n",
              "</div>\n",
              "    <div class=\"colab-df-buttons\">\n",
              "\n",
              "  <div class=\"colab-df-container\">\n",
              "    <button class=\"colab-df-convert\" onclick=\"convertToInteractive('df-aab5accf-21f1-40f6-8c8f-cbd02def00ef')\"\n",
              "            title=\"Convert this dataframe to an interactive table.\"\n",
              "            style=\"display:none;\">\n",
              "\n",
              "  <svg xmlns=\"http://www.w3.org/2000/svg\" height=\"24px\" viewBox=\"0 -960 960 960\">\n",
              "    <path d=\"M120-120v-720h720v720H120Zm60-500h600v-160H180v160Zm220 220h160v-160H400v160Zm0 220h160v-160H400v160ZM180-400h160v-160H180v160Zm440 0h160v-160H620v160ZM180-180h160v-160H180v160Zm440 0h160v-160H620v160Z\"/>\n",
              "  </svg>\n",
              "    </button>\n",
              "\n",
              "  <style>\n",
              "    .colab-df-container {\n",
              "      display:flex;\n",
              "      gap: 12px;\n",
              "    }\n",
              "\n",
              "    .colab-df-convert {\n",
              "      background-color: #E8F0FE;\n",
              "      border: none;\n",
              "      border-radius: 50%;\n",
              "      cursor: pointer;\n",
              "      display: none;\n",
              "      fill: #1967D2;\n",
              "      height: 32px;\n",
              "      padding: 0 0 0 0;\n",
              "      width: 32px;\n",
              "    }\n",
              "\n",
              "    .colab-df-convert:hover {\n",
              "      background-color: #E2EBFA;\n",
              "      box-shadow: 0px 1px 2px rgba(60, 64, 67, 0.3), 0px 1px 3px 1px rgba(60, 64, 67, 0.15);\n",
              "      fill: #174EA6;\n",
              "    }\n",
              "\n",
              "    .colab-df-buttons div {\n",
              "      margin-bottom: 4px;\n",
              "    }\n",
              "\n",
              "    [theme=dark] .colab-df-convert {\n",
              "      background-color: #3B4455;\n",
              "      fill: #D2E3FC;\n",
              "    }\n",
              "\n",
              "    [theme=dark] .colab-df-convert:hover {\n",
              "      background-color: #434B5C;\n",
              "      box-shadow: 0px 1px 3px 1px rgba(0, 0, 0, 0.15);\n",
              "      filter: drop-shadow(0px 1px 2px rgba(0, 0, 0, 0.3));\n",
              "      fill: #FFFFFF;\n",
              "    }\n",
              "  </style>\n",
              "\n",
              "    <script>\n",
              "      const buttonEl =\n",
              "        document.querySelector('#df-aab5accf-21f1-40f6-8c8f-cbd02def00ef button.colab-df-convert');\n",
              "      buttonEl.style.display =\n",
              "        google.colab.kernel.accessAllowed ? 'block' : 'none';\n",
              "\n",
              "      async function convertToInteractive(key) {\n",
              "        const element = document.querySelector('#df-aab5accf-21f1-40f6-8c8f-cbd02def00ef');\n",
              "        const dataTable =\n",
              "          await google.colab.kernel.invokeFunction('convertToInteractive',\n",
              "                                                    [key], {});\n",
              "        if (!dataTable) return;\n",
              "\n",
              "        const docLinkHtml = 'Like what you see? Visit the ' +\n",
              "          '<a target=\"_blank\" href=https://colab.research.google.com/notebooks/data_table.ipynb>data table notebook</a>'\n",
              "          + ' to learn more about interactive tables.';\n",
              "        element.innerHTML = '';\n",
              "        dataTable['output_type'] = 'display_data';\n",
              "        await google.colab.output.renderOutput(dataTable, element);\n",
              "        const docLink = document.createElement('div');\n",
              "        docLink.innerHTML = docLinkHtml;\n",
              "        element.appendChild(docLink);\n",
              "      }\n",
              "    </script>\n",
              "  </div>\n",
              "\n",
              "\n",
              "<div id=\"df-42eaf8f3-8734-4434-bcc4-60607272f63e\">\n",
              "  <button class=\"colab-df-quickchart\" onclick=\"quickchart('df-42eaf8f3-8734-4434-bcc4-60607272f63e')\"\n",
              "            title=\"Suggest charts\"\n",
              "            style=\"display:none;\">\n",
              "\n",
              "<svg xmlns=\"http://www.w3.org/2000/svg\" height=\"24px\"viewBox=\"0 0 24 24\"\n",
              "     width=\"24px\">\n",
              "    <g>\n",
              "        <path d=\"M19 3H5c-1.1 0-2 .9-2 2v14c0 1.1.9 2 2 2h14c1.1 0 2-.9 2-2V5c0-1.1-.9-2-2-2zM9 17H7v-7h2v7zm4 0h-2V7h2v10zm4 0h-2v-4h2v4z\"/>\n",
              "    </g>\n",
              "</svg>\n",
              "  </button>\n",
              "\n",
              "<style>\n",
              "  .colab-df-quickchart {\n",
              "      --bg-color: #E8F0FE;\n",
              "      --fill-color: #1967D2;\n",
              "      --hover-bg-color: #E2EBFA;\n",
              "      --hover-fill-color: #174EA6;\n",
              "      --disabled-fill-color: #AAA;\n",
              "      --disabled-bg-color: #DDD;\n",
              "  }\n",
              "\n",
              "  [theme=dark] .colab-df-quickchart {\n",
              "      --bg-color: #3B4455;\n",
              "      --fill-color: #D2E3FC;\n",
              "      --hover-bg-color: #434B5C;\n",
              "      --hover-fill-color: #FFFFFF;\n",
              "      --disabled-bg-color: #3B4455;\n",
              "      --disabled-fill-color: #666;\n",
              "  }\n",
              "\n",
              "  .colab-df-quickchart {\n",
              "    background-color: var(--bg-color);\n",
              "    border: none;\n",
              "    border-radius: 50%;\n",
              "    cursor: pointer;\n",
              "    display: none;\n",
              "    fill: var(--fill-color);\n",
              "    height: 32px;\n",
              "    padding: 0;\n",
              "    width: 32px;\n",
              "  }\n",
              "\n",
              "  .colab-df-quickchart:hover {\n",
              "    background-color: var(--hover-bg-color);\n",
              "    box-shadow: 0 1px 2px rgba(60, 64, 67, 0.3), 0 1px 3px 1px rgba(60, 64, 67, 0.15);\n",
              "    fill: var(--button-hover-fill-color);\n",
              "  }\n",
              "\n",
              "  .colab-df-quickchart-complete:disabled,\n",
              "  .colab-df-quickchart-complete:disabled:hover {\n",
              "    background-color: var(--disabled-bg-color);\n",
              "    fill: var(--disabled-fill-color);\n",
              "    box-shadow: none;\n",
              "  }\n",
              "\n",
              "  .colab-df-spinner {\n",
              "    border: 2px solid var(--fill-color);\n",
              "    border-color: transparent;\n",
              "    border-bottom-color: var(--fill-color);\n",
              "    animation:\n",
              "      spin 1s steps(1) infinite;\n",
              "  }\n",
              "\n",
              "  @keyframes spin {\n",
              "    0% {\n",
              "      border-color: transparent;\n",
              "      border-bottom-color: var(--fill-color);\n",
              "      border-left-color: var(--fill-color);\n",
              "    }\n",
              "    20% {\n",
              "      border-color: transparent;\n",
              "      border-left-color: var(--fill-color);\n",
              "      border-top-color: var(--fill-color);\n",
              "    }\n",
              "    30% {\n",
              "      border-color: transparent;\n",
              "      border-left-color: var(--fill-color);\n",
              "      border-top-color: var(--fill-color);\n",
              "      border-right-color: var(--fill-color);\n",
              "    }\n",
              "    40% {\n",
              "      border-color: transparent;\n",
              "      border-right-color: var(--fill-color);\n",
              "      border-top-color: var(--fill-color);\n",
              "    }\n",
              "    60% {\n",
              "      border-color: transparent;\n",
              "      border-right-color: var(--fill-color);\n",
              "    }\n",
              "    80% {\n",
              "      border-color: transparent;\n",
              "      border-right-color: var(--fill-color);\n",
              "      border-bottom-color: var(--fill-color);\n",
              "    }\n",
              "    90% {\n",
              "      border-color: transparent;\n",
              "      border-bottom-color: var(--fill-color);\n",
              "    }\n",
              "  }\n",
              "</style>\n",
              "\n",
              "  <script>\n",
              "    async function quickchart(key) {\n",
              "      const quickchartButtonEl =\n",
              "        document.querySelector('#' + key + ' button');\n",
              "      quickchartButtonEl.disabled = true;  // To prevent multiple clicks.\n",
              "      quickchartButtonEl.classList.add('colab-df-spinner');\n",
              "      try {\n",
              "        const charts = await google.colab.kernel.invokeFunction(\n",
              "            'suggestCharts', [key], {});\n",
              "      } catch (error) {\n",
              "        console.error('Error during call to suggestCharts:', error);\n",
              "      }\n",
              "      quickchartButtonEl.classList.remove('colab-df-spinner');\n",
              "      quickchartButtonEl.classList.add('colab-df-quickchart-complete');\n",
              "    }\n",
              "    (() => {\n",
              "      let quickchartButtonEl =\n",
              "        document.querySelector('#df-42eaf8f3-8734-4434-bcc4-60607272f63e button');\n",
              "      quickchartButtonEl.style.display =\n",
              "        google.colab.kernel.accessAllowed ? 'block' : 'none';\n",
              "    })();\n",
              "  </script>\n",
              "</div>\n",
              "\n",
              "    </div>\n",
              "  </div>\n"
            ],
            "application/vnd.google.colaboratory.intrinsic+json": {
              "type": "dataframe",
              "variable_name": "df"
            }
          },
          "metadata": {},
          "execution_count": 85
        }
      ]
    },
    {
      "cell_type": "code",
      "source": [
        "# Slice dataframe by day since we dont want to trade over the end of the day\n",
        "DF_list = [group[1] for group in  df.groupby([df.index.year,df.index.month,df.index.day])]\n",
        "len(DF_list)"
      ],
      "metadata": {
        "colab": {
          "base_uri": "https://localhost:8080/"
        },
        "id": "zmHWF0vkKCZJ",
        "outputId": "07777631-bae2-4fd8-c848-216c25979afa"
      },
      "execution_count": 86,
      "outputs": [
        {
          "output_type": "execute_result",
          "data": {
            "text/plain": [
              "281"
            ]
          },
          "metadata": {},
          "execution_count": 86
        }
      ]
    },
    {
      "cell_type": "code",
      "source": [
        "# Prepare the time series\n",
        "time_series = (DF_list[16].reset_index()).loc[240:479].Midprice\n",
        "time_series_normalized = (time_series - time_series.mean()) / time_series.std()\n",
        "\n",
        "# Parameters for CWT\n",
        "sampling_rate = 1  # Minutely data\n",
        "frequency_range = np.linspace(1, 50, 100)  # Define frequency range for CWT\n",
        "\n",
        "# Perform Continuous Wavelet Transform (CWT)\n",
        "wavelet = \"cmor1.5-1.0\"  # Complex Morlet wavelet\n",
        "coefficients, frequencies = pywt.cwt(time_series_normalized, frequency_range, wavelet, sampling_rate)\n",
        "\n",
        "# Plot the scalogram\n",
        "plt.figure(figsize=(4, 4))\n",
        "plt.imshow(np.abs(coefficients), extent=[0, len(time_series), frequency_range.min(), frequency_range.max()],\n",
        "           aspect='auto', interpolation='bilinear', cmap='jet', vmin=0, vmax=np.percentile(np.abs(coefficients), 95))\n",
        "plt.show()"
      ],
      "metadata": {
        "id": "oHMJ4rSEKGkm"
      },
      "execution_count": null,
      "outputs": []
    },
    {
      "cell_type": "markdown",
      "source": [
        "By applying a continous wavelet transformation we achieve the following scaleogram:\n",
        "\n",
        "![Unbenannt.png](data:image/png;base64,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)"
      ],
      "metadata": {
        "id": "9_S8oDVdxZGB"
      }
    },
    {
      "cell_type": "markdown",
      "source": [
        "Parameters for the cwt and the visualisation of the scaleogram"
      ],
      "metadata": {
        "id": "2l3KRwNGDfGq"
      }
    },
    {
      "cell_type": "code",
      "source": [
        "window_size = 240                           # Window size for wavelet decomposition\n",
        "wavelet = \"cmor1.5-1.0\"                     # Complex Morlet wavelet\n",
        "sampling_rate = 1                           # Minutely data\n",
        "frequency_range = np.linspace(1, 50, 100)   # Define frequency range for CWT\n",
        "change_percent = 0                          # Define a threshold for change that needs to be crossed in order to count it as a real change\n",
        "offset = 120                                 # Create more images by shifting the windows by an offset\n",
        "\n",
        "folder_up = \"/content/drive/MyDrive/Colab Notebooks/HFF_AT_Assignment_3/ustech100/data/up\"\n",
        "folder_down = \"/content/drive/MyDrive/Colab Notebooks/HFF_AT_Assignment_3/ustech100/data/down\"\n",
        "folder_no_change = \"/content/drive/MyDrive/Colab Notebooks/HFF_AT_Assignment_3/ustech100/data/no_change\""
      ],
      "metadata": {
        "id": "JOVmtmT3KXX1"
      },
      "execution_count": 91,
      "outputs": []
    },
    {
      "cell_type": "markdown",
      "source": [
        "Iterating over each day and comute the cwt and the corresponding scaleogram. Depending on the price development it is stored in the respective folder."
      ],
      "metadata": {
        "id": "ifwzrNO6DlAb"
      }
    },
    {
      "cell_type": "code",
      "source": [
        "for day in range(0,len(DF_list)-1): # over all days\n",
        "  for i in range(0, 5): # build 5 blocks per day\n",
        "    try:\n",
        "      day_series = DF_list[day].reset_index()\n",
        "      time_series = (DF_list[day].reset_index()).loc[(i*window_size)+offset:((i+1)*window_size-1)+offset].Midprice\n",
        "      time_series_normalized = (time_series - time_series.mean()) / time_series.std()\n",
        "\n",
        "      # Check if price goes up or down after the end of the period\n",
        "      direction = \"\"\n",
        "      print(\"value at time: \" + str(day_series.iloc[((i+1)*window_size-1)+offset].Midprice) + \" and at time + 1: \" + str(day_series.iloc[((i+1)*window_size)+offset].Midprice))\n",
        "      if day_series.iloc[((i+1)*window_size-1)+offset].Midprice < day_series.iloc[((i+1)*window_size)+offset].Midprice:\n",
        "        direction = \"up\"\n",
        "        print(\"up\")\n",
        "      elif day_series.iloc[((i+1)*window_size-1)+offset].Midprice > day_series.iloc[((i+1)*window_size)+offset].Midprice:\n",
        "        direction = \"down\"\n",
        "        print(\"down\")\n",
        "      else:\n",
        "        print(\"no change\")\n",
        "        direction = \"no change\"\n",
        "\n",
        "      # Perform Continuous Wavelet Transform (CWT)\n",
        "      coefficients, frequencies = pywt.cwt(time_series_normalized, frequency_range, wavelet, sampling_rate)\n",
        "\n",
        "      # Save image\n",
        "      filename = str(day) + \"_\" + str(i) + \"_shifted_\" +str(offset) + \"_\" + direction + \".png\"\n",
        "      plt.figure(figsize=(4, 4))\n",
        "      plt.imshow(np.abs(coefficients), extent=[0, len(time_series), frequency_range.min(), frequency_range.max()],\n",
        "                aspect='auto', interpolation='bilinear', cmap='jet', vmin=0, vmax=np.percentile(np.abs(coefficients), 95))\n",
        "      if direction == \"up\":\n",
        "        path = folder_up + \"/\" + filename\n",
        "        plt.savefig(path)\n",
        "        plt.close()\n",
        "      elif direction == \"down\":\n",
        "        path = folder_down + \"/\" + filename\n",
        "        plt.savefig(path)\n",
        "        plt.close()\n",
        "      else:\n",
        "        path = folder_no_change + \"/\" + filename\n",
        "        plt.savefig(path)\n",
        "        plt.close()\n",
        "    except ValueError:\n",
        "      print(\"Value Error\")\n",
        "      pass\n",
        "    except IndexError:\n",
        "      print(\"Index Error\")\n",
        "      pass\n"
      ],
      "metadata": {
        "id": "Jq_sWIJ-Khri"
      },
      "execution_count": null,
      "outputs": []
    }
  ]
}